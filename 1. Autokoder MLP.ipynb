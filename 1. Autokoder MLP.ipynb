{
 "cells": [
  {
   "cell_type": "markdown",
   "id": "702a5454",
   "metadata": {},
   "source": [
    "Przed oddaniem zadania upewnij się, że wszystko działa poprawnie.\n",
    "**Uruchom ponownie kernel** (z paska menu: Kernel$\\rightarrow$Restart) a następnie\n",
    "**wykonaj wszystkie komórki** (z paska menu: Cell$\\rightarrow$Run All).\n",
    "\n",
    "Upewnij się, że wypełniłeś wszystkie pola `TU WPISZ KOD` lub `TU WPISZ ODPOWIEDŹ`, oraz\n",
    "że podałeś swoje imię i nazwisko poniżej:"
   ]
  },
  {
   "cell_type": "code",
   "execution_count": null,
   "id": "683600c4",
   "metadata": {},
   "outputs": [],
   "source": [
    "NAME = \"\""
   ]
  },
  {
   "cell_type": "markdown",
   "id": "ca39d1eb",
   "metadata": {},
   "source": [
    "---"
   ]
  },
  {
   "cell_type": "markdown",
   "id": "84234e55",
   "metadata": {},
   "source": [
    "# 1. Wielowarstwowe perceptrony (MLP)\n",
    "Pierwszą architekturą, którą będziemy chcieli sprawdzić jest autokoder oparty o wielowarstwowe perceptrony (MLP). "
   ]
  },
  {
   "cell_type": "markdown",
   "id": "d62d793f",
   "metadata": {},
   "source": [
    "## 1.1. Architektura i szczegóły implementacyjne\n",
    "\n",
    "Zapoznaj się z poniższymi implementacjami kodera i dekodera."
   ]
  },
  {
   "cell_type": "code",
   "execution_count": null,
   "id": "d919d290",
   "metadata": {},
   "outputs": [],
   "source": [
    "from IPython.display import Code\n",
    "\n",
    "\n",
    "Code(filename=\"src/mlp.py\")"
   ]
  },
  {
   "cell_type": "markdown",
   "id": "dd1c2818",
   "metadata": {},
   "source": [
    "Jak już zostałe wspomniane we wprowadzeniu, do deklaracji właściwego autokodera oraz uczenia tego modelu, został wykorzystany PyTorch-Lightning. Model deklarujemy jako klasę dziedziczącą po `LightningModule`, a następnie deklarujemy metody:\n",
    "- `forward` - czyli standardowe przejście w przód modelu; w tym wypadku będziemy głównie zainteresowani reprezentacjami, stąd `forward` wywołuje tylko moduł kodera,\n",
    "- `training_step` - metoda obliczająca funkcję kosztu dla podanej paczki (`batch`) danych; w tym wypadku korzystamy z dodatkowej funkcji `reconstruct`, która wywołuje zarówno `forward`, jak i przekazuje wyniki do dekodera; jako funkcję kosztu wykorzystujemy błąd średniokwadratowy (MSE),\n",
    "- `configure_optimizers` - w tej metodzie tworzymy obiekt optymalizatora (tutaj: Adam) podając również współczynnik uczenia (*learning rate*)."
   ]
  },
  {
   "cell_type": "code",
   "execution_count": null,
   "id": "1a5c39c2",
   "metadata": {},
   "outputs": [],
   "source": [
    "Code(filename=\"src/ae.py\")"
   ]
  },
  {
   "cell_type": "markdown",
   "id": "560a3531",
   "metadata": {},
   "source": [
    "## 1.2. Uczenie modelu\n",
    "\n",
    "Ze względu na czas obliczeń oraz ograniczone zasoby czasowe w trakcie laboratorium, w repozytorium zostały dołączone gotowe przeuczone modele. Dla zainteresowanych podany jest poniżej kod użyty w celu wyuczenia modelu.\n",
    "\n",
    "**Uwaga:** W celach uproszczenia kodu i toku rozumowania został przyjęty rozmiar wektora reprezentacji równy `latent_dim = 2`. W rzeczywistych zastosowaniach tak niska wymiarowość nie jest pożądana ze względu na silne ograniczenie pojemności / możliwości zakodowania danych."
   ]
  },
  {
   "cell_type": "code",
   "execution_count": null,
   "id": "3ca94d75",
   "metadata": {},
   "outputs": [],
   "source": [
    "LOG_PATH = \"./data/MLP/logs/\"\n",
    "CHECKPOINT_PATH = \"./data/MLP/model.ckpt\""
   ]
  },
  {
   "cell_type": "code",
   "execution_count": null,
   "id": "4f7770c3",
   "metadata": {},
   "outputs": [],
   "source": [
    "%load_ext tensorboard\n",
    "%tensorboard --logdir $LOG_PATH --host 0.0.0.0 --port 6006"
   ]
  },
  {
   "cell_type": "code",
   "execution_count": null,
   "id": "db65cb1d",
   "metadata": {},
   "outputs": [],
   "source": [
    "from src.dataset import SampledMNISTData\n",
    "from src.mlp import MLPAutoencoder"
   ]
  },
  {
   "cell_type": "markdown",
   "id": "a8e405bf",
   "metadata": {},
   "source": [
    "Zakomentowany kod do uczenia modelu\n",
    "\n",
    "W przypadku chęci modyfikacji, proszę odkomentować kod, przeuczyć model i zapisać go za pomocą metody `save_checkpoint`."
   ]
  },
  {
   "cell_type": "code",
   "execution_count": null,
   "id": "e4e4e519",
   "metadata": {},
   "outputs": [],
   "source": [
    "# from lightning import Trainer\n",
    "# from lightning.pytorch.loggers import TensorBoardLogger\n",
    "\n",
    "# mlp_ae = MLPAutoencoder(latent_dim=2)\n",
    "# trainer = Trainer(\n",
    "#     max_epochs=10, \n",
    "#     logger=TensorBoardLogger(save_dir=LOG_PATH, name=\"mlp_ae\", default_hp_metric=False),\n",
    "#     enable_checkpointing=False,\n",
    "#     accelerator=\"auto\",\n",
    "# )\n",
    "# mnist = SampledMNISTData(num_samples_per_class=-1)\n",
    "\n",
    "# trainer.fit(\n",
    "#     model=mlp_ae, \n",
    "#     train_dataloaders=mnist,\n",
    "# )\n",
    "\n",
    "# trainer.save_checkpoint(filepath=CHECKPOINT_PATH)"
   ]
  },
  {
   "cell_type": "markdown",
   "id": "0eb2b6e7",
   "metadata": {},
   "source": [
    "Wczytujemy przeuczony model:"
   ]
  },
  {
   "cell_type": "code",
   "execution_count": null,
   "id": "cceb4465",
   "metadata": {},
   "outputs": [],
   "source": [
    "mlp_ae = MLPAutoencoder.load_from_checkpoint(checkpoint_path=CHECKPOINT_PATH, map_location=\"cpu\")"
   ]
  },
  {
   "cell_type": "markdown",
   "id": "bb97f721",
   "metadata": {},
   "source": [
    "## 1.3. Badanie jakości reprezentacji w zadaniu"
   ]
  },
  {
   "cell_type": "markdown",
   "id": "77463dfa",
   "metadata": {},
   "source": [
    "Wczytujemy losową próbkę zbioru danych MNIST:"
   ]
  },
  {
   "cell_type": "code",
   "execution_count": null,
   "id": "70be5b25",
   "metadata": {},
   "outputs": [],
   "source": [
    "mnist = SampledMNISTData(num_samples_per_class=100, seed=42)"
   ]
  },
  {
   "cell_type": "markdown",
   "id": "8fc87118",
   "metadata": {},
   "source": [
    "Dla każdej próbki wyciągamy jej reprezentację (wektor dwu-wymiarowy) oraz etykietę:"
   ]
  },
  {
   "cell_type": "code",
   "execution_count": null,
   "id": "44d59298",
   "metadata": {},
   "outputs": [],
   "source": [
    "from src.utils import extract_representations\n",
    "\n",
    "\n",
    "representations = extract_representations(\n",
    "    model=mlp_ae,\n",
    "    dataset=mnist,\n",
    ")"
   ]
  },
  {
   "cell_type": "code",
   "execution_count": null,
   "id": "df600d4e",
   "metadata": {},
   "outputs": [],
   "source": [
    "from src.utils import evaluate_linear    \n",
    "\n",
    "\n",
    "auc_train, auc_test = evaluate_linear(\n",
    "    z_train=representations[\"train\"][\"z\"],\n",
    "    y_train=representations[\"train\"][\"y\"],\n",
    "    z_test=representations[\"test\"][\"z\"],\n",
    "    y_test=representations[\"test\"][\"y\"],\n",
    ")\n",
    "\n",
    "print(f\"AUC => train: {auc_train * 100.0:.2f} [%], test: {auc_test * 100.0:.2f} [%]\")"
   ]
  },
  {
   "cell_type": "markdown",
   "id": "c82debc3",
   "metadata": {},
   "source": [
    "## 1.4. Wizualizacja przestrzeni reprezentacji"
   ]
  },
  {
   "cell_type": "code",
   "execution_count": null,
   "id": "eae906f7",
   "metadata": {},
   "outputs": [],
   "source": [
    "%matplotlib inline\n",
    "\n",
    "from src.utils import visualize_latent_spaces\n",
    "\n",
    "\n",
    "visualize_latent_spaces(representations)"
   ]
  },
  {
   "cell_type": "markdown",
   "id": "ade702ac",
   "metadata": {},
   "source": [
    "## 1.5. Wizualizacja jakości rekonstrukcji"
   ]
  },
  {
   "cell_type": "code",
   "execution_count": null,
   "id": "566854ad",
   "metadata": {},
   "outputs": [],
   "source": [
    "%matplotlib inline\n",
    "\n",
    "from src.utils import visualize_random_sample\n",
    "\n",
    "    \n",
    "visualize_random_sample(model=mlp_ae, dataset=mnist.mnist_train)"
   ]
  },
  {
   "cell_type": "markdown",
   "id": "f004e7eb",
   "metadata": {},
   "source": [
    "## 1.6. Odporność modelu na transformacje (symetrie)\n",
    "\n",
    "Podczas ostatniego wykładu (`Wykład 2`) omówione zostały dwa podejścia do opisywania struktury danych, mianowicie: symetrie oraz koncepcja separacji skali. Dobry model powinien być odporny na transformacje wynikające z akcji grupy symetrii związanej z konkretnym typem danych.\n",
    "\n",
    "W przypadku obrazów, które tutaj rozważamy na przykładzie zbioru MNIST, jedną z grup symetrii jest **grupa translacji** (przesunięć). Oznacza to, że niezależnie położenia danego obiektu (tutaj: cyfry) na obrazie, model powinien uzyskiwać taką samą reprezentację (lub bardzo podobną).\n",
    "\n",
    "Zbadamy teraz jaka jest odporność autokodera MLP na przesunięcia cyfr na obrazie."
   ]
  },
  {
   "cell_type": "markdown",
   "id": "61bb5852",
   "metadata": {},
   "source": [
    "## Zadanie 1.1 (2 pkt)\n",
    "Zaimplementuj funkcję `shift`, która przesunie każdy piksel na obrazie wejściowym `img` (rozmiaru `28 x 28`) o `dx` pikseli w prawo oraz `dy` pikseli w dół. Funkcja powinna obsługiwać:\n",
    "- ujemne wartości dla tych parametrów przesunięć, tzn. `dx < 0` (w lewo) oraz `dy < 0` (do góry),\n",
    "- \"zawijanie\" zawartości, np. jeśli piksel przy przesunięciu w prawo wyszedłby poza widoczny obszar, powinien zostać \"zawinięty\" i pojawić się z lewej strony obrazu."
   ]
  },
  {
   "cell_type": "code",
   "execution_count": null,
   "id": "2674696e",
   "metadata": {
    "deletable": false,
    "nbgrader": {
     "cell_type": "code",
     "checksum": "50ba4b678e8adc71a61a42057cfed757",
     "grade": true,
     "grade_id": "shift-implementation",
     "locked": false,
     "points": 2,
     "schema_version": 3,
     "solution": true,
     "task": false
    }
   },
   "outputs": [],
   "source": [
    "import torch\n",
    "\n",
    "\n",
    "def shift(img: torch.Tensor, dx: int, dy: int) -> torch.Tensor:\n",
    "    # TU WPISZ KOD\n",
    "    raise NotImplementedError()"
   ]
  },
  {
   "cell_type": "markdown",
   "id": "3e28647c",
   "metadata": {},
   "source": [
    "Wybieramy dowolną instancję ze zbioru danych:"
   ]
  },
  {
   "cell_type": "code",
   "execution_count": null,
   "id": "233a0312",
   "metadata": {},
   "outputs": [],
   "source": [
    "img, _ = mnist.mnist_train[256]"
   ]
  },
  {
   "cell_type": "markdown",
   "id": "54b96492",
   "metadata": {},
   "source": [
    "Zbadanie odporności na **przesunięcia poziome**:"
   ]
  },
  {
   "cell_type": "code",
   "execution_count": null,
   "id": "7d194a55",
   "metadata": {},
   "outputs": [],
   "source": [
    "# %matplotlib notebook\n",
    "%matplotlib widget\n",
    "\n",
    "from src.transforms import plot_transformation\n",
    "\n",
    "\n",
    "def shift_horizontally(image: torch.Tensor, dx: int) -> torch.Tensor:\n",
    "    return shift(img=image, dx=dx, dy=0)\n",
    "\n",
    "    \n",
    "plot_transformation(\n",
    "    image=img,\n",
    "    model=mlp_ae,\n",
    "    transformation_fn=shift_horizontally,\n",
    ")"
   ]
  },
  {
   "cell_type": "markdown",
   "id": "87c2fab0",
   "metadata": {},
   "source": [
    "Odporność na **przesunięcia pionowe**:"
   ]
  },
  {
   "cell_type": "code",
   "execution_count": null,
   "id": "ece4d88d",
   "metadata": {},
   "outputs": [],
   "source": [
    "# %matplotlib notebook\n",
    "%matplotlib widget\n",
    "\n",
    "\n",
    "def shift_vertically(image: torch.Tensor, dy: int) -> torch.Tensor:\n",
    "    return shift(img=image, dx=0, dy=dy)\n",
    "\n",
    "\n",
    "plot_transformation(\n",
    "    image=img,\n",
    "    model=mlp_ae,\n",
    "    transformation_fn=shift_vertically,\n",
    ")"
   ]
  },
  {
   "cell_type": "markdown",
   "id": "ab63f8db",
   "metadata": {},
   "source": [
    "## Zadanie 1.2 (0.5 pkt)\n",
    "Czy autokoder MLP jest odporny na przesunięcia obiektów? Z czego to może wynikać?"
   ]
  },
  {
   "cell_type": "markdown",
   "id": "9fce5442",
   "metadata": {
    "deletable": false,
    "nbgrader": {
     "cell_type": "markdown",
     "checksum": "4c542cc9fe0d89ba297d151d43f6af2a",
     "grade": true,
     "grade_id": "mlp-shift",
     "locked": false,
     "points": 0.5,
     "schema_version": 3,
     "solution": true,
     "task": false
    }
   },
   "source": [
    "TU WPISZ ODPOWIEDŹ"
   ]
  }
 ],
 "metadata": {
  "kernelspec": {
   "display_name": "Python 3 (ipykernel)",
   "language": "python",
   "name": "python3"
  },
  "language_info": {
   "codemirror_mode": {
    "name": "ipython",
    "version": 3
   },
   "file_extension": ".py",
   "mimetype": "text/x-python",
   "name": "python",
   "nbconvert_exporter": "python",
   "pygments_lexer": "ipython3",
   "version": "3.11.9"
  }
 },
 "nbformat": 4,
 "nbformat_minor": 5
}
