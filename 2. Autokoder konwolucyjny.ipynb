{
 "cells": [
  {
   "cell_type": "markdown",
   "id": "94d33709",
   "metadata": {},
   "source": [
    "Przed oddaniem zadania upewnij się, że wszystko działa poprawnie.\n",
    "**Uruchom ponownie kernel** (z paska menu: Kernel$\\rightarrow$Restart) a następnie\n",
    "**wykonaj wszystkie komórki** (z paska menu: Cell$\\rightarrow$Run All).\n",
    "\n",
    "Upewnij się, że wypełniłeś wszystkie pola `TU WPISZ KOD` lub `TU WPISZ ODPOWIEDŹ`, oraz\n",
    "że podałeś swoje imię i nazwisko poniżej:\n"
   ]
  },
  {
   "cell_type": "code",
   "execution_count": 1,
   "id": "9f121bb7",
   "metadata": {},
   "outputs": [],
   "source": [
    "NAME = \"Piotr Durniat\""
   ]
  },
  {
   "cell_type": "markdown",
   "id": "cf0bbc96",
   "metadata": {},
   "source": [
    "---\n"
   ]
  },
  {
   "cell_type": "markdown",
   "id": "84234e55",
   "metadata": {},
   "source": [
    "# 2. Model konwolucyjny (CNN)\n",
    "\n",
    "Następnie sprawdzimy architekturę autokodera opartego na warstwach konwolucyjnych (CNN).\n"
   ]
  },
  {
   "cell_type": "markdown",
   "id": "9030701f",
   "metadata": {},
   "source": [
    "## 2.1. Architektura\n",
    "\n",
    "Zapoznaj się z poniższymi implementacjami kodera i dekodera.\n"
   ]
  },
  {
   "cell_type": "code",
   "execution_count": 2,
   "id": "d40fc0fe",
   "metadata": {},
   "outputs": [
    {
     "data": {
      "text/html": [
       "<style>pre { line-height: 125%; }\n",
       "td.linenos .normal { color: inherit; background-color: transparent; padding-left: 5px; padding-right: 5px; }\n",
       "span.linenos { color: inherit; background-color: transparent; padding-left: 5px; padding-right: 5px; }\n",
       "td.linenos .special { color: #000000; background-color: #ffffc0; padding-left: 5px; padding-right: 5px; }\n",
       "span.linenos.special { color: #000000; background-color: #ffffc0; padding-left: 5px; padding-right: 5px; }\n",
       ".output_html .hll { background-color: #ffffcc }\n",
       ".output_html { background: #f8f8f8; }\n",
       ".output_html .c { color: #3D7B7B; font-style: italic } /* Comment */\n",
       ".output_html .err { border: 1px solid #FF0000 } /* Error */\n",
       ".output_html .k { color: #008000; font-weight: bold } /* Keyword */\n",
       ".output_html .o { color: #666666 } /* Operator */\n",
       ".output_html .ch { color: #3D7B7B; font-style: italic } /* Comment.Hashbang */\n",
       ".output_html .cm { color: #3D7B7B; font-style: italic } /* Comment.Multiline */\n",
       ".output_html .cp { color: #9C6500 } /* Comment.Preproc */\n",
       ".output_html .cpf { color: #3D7B7B; font-style: italic } /* Comment.PreprocFile */\n",
       ".output_html .c1 { color: #3D7B7B; font-style: italic } /* Comment.Single */\n",
       ".output_html .cs { color: #3D7B7B; font-style: italic } /* Comment.Special */\n",
       ".output_html .gd { color: #A00000 } /* Generic.Deleted */\n",
       ".output_html .ge { font-style: italic } /* Generic.Emph */\n",
       ".output_html .ges { font-weight: bold; font-style: italic } /* Generic.EmphStrong */\n",
       ".output_html .gr { color: #E40000 } /* Generic.Error */\n",
       ".output_html .gh { color: #000080; font-weight: bold } /* Generic.Heading */\n",
       ".output_html .gi { color: #008400 } /* Generic.Inserted */\n",
       ".output_html .go { color: #717171 } /* Generic.Output */\n",
       ".output_html .gp { color: #000080; font-weight: bold } /* Generic.Prompt */\n",
       ".output_html .gs { font-weight: bold } /* Generic.Strong */\n",
       ".output_html .gu { color: #800080; font-weight: bold } /* Generic.Subheading */\n",
       ".output_html .gt { color: #0044DD } /* Generic.Traceback */\n",
       ".output_html .kc { color: #008000; font-weight: bold } /* Keyword.Constant */\n",
       ".output_html .kd { color: #008000; font-weight: bold } /* Keyword.Declaration */\n",
       ".output_html .kn { color: #008000; font-weight: bold } /* Keyword.Namespace */\n",
       ".output_html .kp { color: #008000 } /* Keyword.Pseudo */\n",
       ".output_html .kr { color: #008000; font-weight: bold } /* Keyword.Reserved */\n",
       ".output_html .kt { color: #B00040 } /* Keyword.Type */\n",
       ".output_html .m { color: #666666 } /* Literal.Number */\n",
       ".output_html .s { color: #BA2121 } /* Literal.String */\n",
       ".output_html .na { color: #687822 } /* Name.Attribute */\n",
       ".output_html .nb { color: #008000 } /* Name.Builtin */\n",
       ".output_html .nc { color: #0000FF; font-weight: bold } /* Name.Class */\n",
       ".output_html .no { color: #880000 } /* Name.Constant */\n",
       ".output_html .nd { color: #AA22FF } /* Name.Decorator */\n",
       ".output_html .ni { color: #717171; font-weight: bold } /* Name.Entity */\n",
       ".output_html .ne { color: #CB3F38; font-weight: bold } /* Name.Exception */\n",
       ".output_html .nf { color: #0000FF } /* Name.Function */\n",
       ".output_html .nl { color: #767600 } /* Name.Label */\n",
       ".output_html .nn { color: #0000FF; font-weight: bold } /* Name.Namespace */\n",
       ".output_html .nt { color: #008000; font-weight: bold } /* Name.Tag */\n",
       ".output_html .nv { color: #19177C } /* Name.Variable */\n",
       ".output_html .ow { color: #AA22FF; font-weight: bold } /* Operator.Word */\n",
       ".output_html .w { color: #bbbbbb } /* Text.Whitespace */\n",
       ".output_html .mb { color: #666666 } /* Literal.Number.Bin */\n",
       ".output_html .mf { color: #666666 } /* Literal.Number.Float */\n",
       ".output_html .mh { color: #666666 } /* Literal.Number.Hex */\n",
       ".output_html .mi { color: #666666 } /* Literal.Number.Integer */\n",
       ".output_html .mo { color: #666666 } /* Literal.Number.Oct */\n",
       ".output_html .sa { color: #BA2121 } /* Literal.String.Affix */\n",
       ".output_html .sb { color: #BA2121 } /* Literal.String.Backtick */\n",
       ".output_html .sc { color: #BA2121 } /* Literal.String.Char */\n",
       ".output_html .dl { color: #BA2121 } /* Literal.String.Delimiter */\n",
       ".output_html .sd { color: #BA2121; font-style: italic } /* Literal.String.Doc */\n",
       ".output_html .s2 { color: #BA2121 } /* Literal.String.Double */\n",
       ".output_html .se { color: #AA5D1F; font-weight: bold } /* Literal.String.Escape */\n",
       ".output_html .sh { color: #BA2121 } /* Literal.String.Heredoc */\n",
       ".output_html .si { color: #A45A77; font-weight: bold } /* Literal.String.Interpol */\n",
       ".output_html .sx { color: #008000 } /* Literal.String.Other */\n",
       ".output_html .sr { color: #A45A77 } /* Literal.String.Regex */\n",
       ".output_html .s1 { color: #BA2121 } /* Literal.String.Single */\n",
       ".output_html .ss { color: #19177C } /* Literal.String.Symbol */\n",
       ".output_html .bp { color: #008000 } /* Name.Builtin.Pseudo */\n",
       ".output_html .fm { color: #0000FF } /* Name.Function.Magic */\n",
       ".output_html .vc { color: #19177C } /* Name.Variable.Class */\n",
       ".output_html .vg { color: #19177C } /* Name.Variable.Global */\n",
       ".output_html .vi { color: #19177C } /* Name.Variable.Instance */\n",
       ".output_html .vm { color: #19177C } /* Name.Variable.Magic */\n",
       ".output_html .il { color: #666666 } /* Literal.Number.Integer.Long */</style><div class=\"highlight\"><pre><span></span><span class=\"kn\">import</span> <span class=\"nn\">torch</span>\n",
       "<span class=\"kn\">from</span> <span class=\"nn\">torch</span> <span class=\"kn\">import</span> <span class=\"n\">nn</span>\n",
       "\n",
       "<span class=\"kn\">from</span> <span class=\"nn\">.ae</span> <span class=\"kn\">import</span> <span class=\"n\">Autoencoder</span>\n",
       "\n",
       "<span class=\"n\">torch</span><span class=\"o\">.</span><span class=\"n\">backends</span><span class=\"o\">.</span><span class=\"n\">cudnn</span><span class=\"o\">.</span><span class=\"n\">deterministic</span> <span class=\"o\">=</span> <span class=\"kc\">True</span>\n",
       "<span class=\"n\">torch</span><span class=\"o\">.</span><span class=\"n\">backends</span><span class=\"o\">.</span><span class=\"n\">cudnn</span><span class=\"o\">.</span><span class=\"n\">benchmark</span> <span class=\"o\">=</span> <span class=\"kc\">False</span>\n",
       "<span class=\"n\">torch</span><span class=\"o\">.</span><span class=\"n\">manual_seed</span><span class=\"p\">(</span><span class=\"mi\">42</span><span class=\"p\">)</span>\n",
       "\n",
       "\n",
       "<span class=\"k\">class</span> <span class=\"nc\">CNNEncoder</span><span class=\"p\">(</span><span class=\"n\">nn</span><span class=\"o\">.</span><span class=\"n\">Module</span><span class=\"p\">):</span>\n",
       "\n",
       "    <span class=\"k\">def</span> <span class=\"fm\">__init__</span><span class=\"p\">(</span><span class=\"bp\">self</span><span class=\"p\">,</span> <span class=\"n\">latent_dim</span><span class=\"p\">:</span> <span class=\"nb\">int</span><span class=\"p\">):</span>\n",
       "        <span class=\"nb\">super</span><span class=\"p\">()</span><span class=\"o\">.</span><span class=\"fm\">__init__</span><span class=\"p\">()</span>\n",
       "\n",
       "        <span class=\"bp\">self</span><span class=\"o\">.</span><span class=\"n\">_layers</span> <span class=\"o\">=</span> <span class=\"n\">nn</span><span class=\"o\">.</span><span class=\"n\">Sequential</span><span class=\"p\">(</span>\n",
       "            <span class=\"c1\"># Convolution</span>\n",
       "            <span class=\"n\">nn</span><span class=\"o\">.</span><span class=\"n\">Conv2d</span><span class=\"p\">(</span><span class=\"mi\">1</span><span class=\"p\">,</span> <span class=\"mi\">8</span><span class=\"p\">,</span> <span class=\"mi\">3</span><span class=\"p\">,</span> <span class=\"n\">stride</span><span class=\"o\">=</span><span class=\"mi\">2</span><span class=\"p\">,</span> <span class=\"n\">padding</span><span class=\"o\">=</span><span class=\"mi\">1</span><span class=\"p\">),</span>\n",
       "            <span class=\"n\">nn</span><span class=\"o\">.</span><span class=\"n\">ReLU</span><span class=\"p\">(</span><span class=\"kc\">True</span><span class=\"p\">),</span>\n",
       "            <span class=\"n\">nn</span><span class=\"o\">.</span><span class=\"n\">Conv2d</span><span class=\"p\">(</span><span class=\"mi\">8</span><span class=\"p\">,</span> <span class=\"mi\">16</span><span class=\"p\">,</span> <span class=\"mi\">3</span><span class=\"p\">,</span> <span class=\"n\">stride</span><span class=\"o\">=</span><span class=\"mi\">2</span><span class=\"p\">,</span> <span class=\"n\">padding</span><span class=\"o\">=</span><span class=\"mi\">1</span><span class=\"p\">),</span>\n",
       "            <span class=\"n\">nn</span><span class=\"o\">.</span><span class=\"n\">ReLU</span><span class=\"p\">(</span><span class=\"kc\">True</span><span class=\"p\">),</span>\n",
       "            <span class=\"n\">nn</span><span class=\"o\">.</span><span class=\"n\">Conv2d</span><span class=\"p\">(</span><span class=\"mi\">16</span><span class=\"p\">,</span> <span class=\"mi\">32</span><span class=\"p\">,</span> <span class=\"mi\">3</span><span class=\"p\">,</span> <span class=\"n\">stride</span><span class=\"o\">=</span><span class=\"mi\">2</span><span class=\"p\">,</span> <span class=\"n\">padding</span><span class=\"o\">=</span><span class=\"mi\">0</span><span class=\"p\">),</span>\n",
       "            <span class=\"n\">nn</span><span class=\"o\">.</span><span class=\"n\">ReLU</span><span class=\"p\">(</span><span class=\"kc\">True</span><span class=\"p\">),</span>\n",
       "            <span class=\"c1\"># Invariant pooling</span>\n",
       "            <span class=\"n\">nn</span><span class=\"o\">.</span><span class=\"n\">MaxPool2d</span><span class=\"p\">(</span><span class=\"n\">kernel_size</span><span class=\"o\">=</span><span class=\"mi\">3</span><span class=\"p\">),</span>\n",
       "            <span class=\"c1\"># Flattening</span>\n",
       "            <span class=\"n\">nn</span><span class=\"o\">.</span><span class=\"n\">Flatten</span><span class=\"p\">(),</span>\n",
       "            <span class=\"c1\"># MLP</span>\n",
       "            <span class=\"n\">nn</span><span class=\"o\">.</span><span class=\"n\">Linear</span><span class=\"p\">(</span><span class=\"mi\">32</span><span class=\"p\">,</span> <span class=\"mi\">128</span><span class=\"p\">),</span>\n",
       "            <span class=\"n\">nn</span><span class=\"o\">.</span><span class=\"n\">ReLU</span><span class=\"p\">(</span><span class=\"kc\">True</span><span class=\"p\">),</span>\n",
       "            <span class=\"n\">nn</span><span class=\"o\">.</span><span class=\"n\">Linear</span><span class=\"p\">(</span><span class=\"mi\">128</span><span class=\"p\">,</span> <span class=\"n\">latent_dim</span><span class=\"p\">),</span>\n",
       "        <span class=\"p\">)</span>\n",
       "\n",
       "    <span class=\"k\">def</span> <span class=\"nf\">forward</span><span class=\"p\">(</span><span class=\"bp\">self</span><span class=\"p\">,</span> <span class=\"n\">img</span><span class=\"p\">):</span>\n",
       "        <span class=\"k\">return</span> <span class=\"bp\">self</span><span class=\"o\">.</span><span class=\"n\">_layers</span><span class=\"p\">(</span><span class=\"n\">img</span><span class=\"p\">)</span>\n",
       "\n",
       "\n",
       "<span class=\"k\">class</span> <span class=\"nc\">CNNDecoder</span><span class=\"p\">(</span><span class=\"n\">nn</span><span class=\"o\">.</span><span class=\"n\">Module</span><span class=\"p\">):</span>\n",
       "\n",
       "    <span class=\"k\">def</span> <span class=\"fm\">__init__</span><span class=\"p\">(</span><span class=\"bp\">self</span><span class=\"p\">,</span> <span class=\"n\">latent_dim</span><span class=\"p\">:</span> <span class=\"nb\">int</span><span class=\"p\">):</span>\n",
       "        <span class=\"nb\">super</span><span class=\"p\">()</span><span class=\"o\">.</span><span class=\"fm\">__init__</span><span class=\"p\">()</span>\n",
       "\n",
       "        <span class=\"bp\">self</span><span class=\"o\">.</span><span class=\"n\">_layers</span> <span class=\"o\">=</span> <span class=\"n\">nn</span><span class=\"o\">.</span><span class=\"n\">Sequential</span><span class=\"p\">(</span>\n",
       "            <span class=\"c1\"># MLP</span>\n",
       "            <span class=\"n\">nn</span><span class=\"o\">.</span><span class=\"n\">Linear</span><span class=\"p\">(</span><span class=\"n\">latent_dim</span><span class=\"p\">,</span> <span class=\"mi\">128</span><span class=\"p\">),</span>\n",
       "            <span class=\"n\">nn</span><span class=\"o\">.</span><span class=\"n\">ReLU</span><span class=\"p\">(</span><span class=\"kc\">True</span><span class=\"p\">),</span>\n",
       "            <span class=\"n\">nn</span><span class=\"o\">.</span><span class=\"n\">Linear</span><span class=\"p\">(</span><span class=\"mi\">128</span><span class=\"p\">,</span> <span class=\"mi\">3</span> <span class=\"o\">*</span> <span class=\"mi\">3</span> <span class=\"o\">*</span> <span class=\"mi\">32</span><span class=\"p\">),</span>\n",
       "            <span class=\"n\">nn</span><span class=\"o\">.</span><span class=\"n\">ReLU</span><span class=\"p\">(</span><span class=\"kc\">True</span><span class=\"p\">),</span>\n",
       "            <span class=\"c1\"># Reshape into image</span>\n",
       "            <span class=\"n\">nn</span><span class=\"o\">.</span><span class=\"n\">Unflatten</span><span class=\"p\">(</span><span class=\"n\">dim</span><span class=\"o\">=</span><span class=\"mi\">1</span><span class=\"p\">,</span> <span class=\"n\">unflattened_size</span><span class=\"o\">=</span><span class=\"p\">(</span><span class=\"mi\">32</span><span class=\"p\">,</span> <span class=\"mi\">3</span><span class=\"p\">,</span> <span class=\"mi\">3</span><span class=\"p\">)),</span>\n",
       "            <span class=\"c1\"># Deconvolution</span>\n",
       "            <span class=\"n\">nn</span><span class=\"o\">.</span><span class=\"n\">ConvTranspose2d</span><span class=\"p\">(</span><span class=\"mi\">32</span><span class=\"p\">,</span> <span class=\"mi\">16</span><span class=\"p\">,</span> <span class=\"mi\">3</span><span class=\"p\">,</span> <span class=\"n\">stride</span><span class=\"o\">=</span><span class=\"mi\">2</span><span class=\"p\">,</span> <span class=\"n\">output_padding</span><span class=\"o\">=</span><span class=\"mi\">0</span><span class=\"p\">),</span>\n",
       "            <span class=\"n\">nn</span><span class=\"o\">.</span><span class=\"n\">ReLU</span><span class=\"p\">(</span><span class=\"kc\">True</span><span class=\"p\">),</span>\n",
       "            <span class=\"n\">nn</span><span class=\"o\">.</span><span class=\"n\">ConvTranspose2d</span><span class=\"p\">(</span><span class=\"mi\">16</span><span class=\"p\">,</span> <span class=\"mi\">8</span><span class=\"p\">,</span> <span class=\"mi\">3</span><span class=\"p\">,</span> <span class=\"n\">stride</span><span class=\"o\">=</span><span class=\"mi\">2</span><span class=\"p\">,</span> <span class=\"n\">padding</span><span class=\"o\">=</span><span class=\"mi\">1</span><span class=\"p\">,</span> <span class=\"n\">output_padding</span><span class=\"o\">=</span><span class=\"mi\">1</span><span class=\"p\">),</span>\n",
       "            <span class=\"n\">nn</span><span class=\"o\">.</span><span class=\"n\">ReLU</span><span class=\"p\">(</span><span class=\"kc\">True</span><span class=\"p\">),</span>\n",
       "            <span class=\"n\">nn</span><span class=\"o\">.</span><span class=\"n\">ConvTranspose2d</span><span class=\"p\">(</span><span class=\"mi\">8</span><span class=\"p\">,</span> <span class=\"mi\">1</span><span class=\"p\">,</span> <span class=\"mi\">3</span><span class=\"p\">,</span> <span class=\"n\">stride</span><span class=\"o\">=</span><span class=\"mi\">2</span><span class=\"p\">,</span> <span class=\"n\">padding</span><span class=\"o\">=</span><span class=\"mi\">1</span><span class=\"p\">,</span> <span class=\"n\">output_padding</span><span class=\"o\">=</span><span class=\"mi\">1</span><span class=\"p\">),</span>\n",
       "            <span class=\"n\">nn</span><span class=\"o\">.</span><span class=\"n\">Sigmoid</span><span class=\"p\">(),</span>\n",
       "        <span class=\"p\">)</span>\n",
       "\n",
       "    <span class=\"k\">def</span> <span class=\"nf\">forward</span><span class=\"p\">(</span><span class=\"bp\">self</span><span class=\"p\">,</span> <span class=\"n\">z</span><span class=\"p\">):</span>\n",
       "        <span class=\"k\">return</span> <span class=\"bp\">self</span><span class=\"o\">.</span><span class=\"n\">_layers</span><span class=\"p\">(</span><span class=\"n\">z</span><span class=\"p\">)</span>\n",
       "\n",
       "\n",
       "<span class=\"k\">class</span> <span class=\"nc\">CNNAutoencoder</span><span class=\"p\">(</span><span class=\"n\">Autoencoder</span><span class=\"p\">):</span>\n",
       "\n",
       "    <span class=\"k\">def</span> <span class=\"fm\">__init__</span><span class=\"p\">(</span><span class=\"bp\">self</span><span class=\"p\">,</span> <span class=\"n\">latent_dim</span><span class=\"p\">:</span> <span class=\"nb\">int</span><span class=\"p\">):</span>\n",
       "        <span class=\"nb\">super</span><span class=\"p\">()</span><span class=\"o\">.</span><span class=\"fm\">__init__</span><span class=\"p\">(</span>\n",
       "            <span class=\"n\">encoder</span><span class=\"o\">=</span><span class=\"n\">CNNEncoder</span><span class=\"p\">(</span><span class=\"n\">latent_dim</span><span class=\"o\">=</span><span class=\"n\">latent_dim</span><span class=\"p\">),</span>\n",
       "            <span class=\"n\">decoder</span><span class=\"o\">=</span><span class=\"n\">CNNDecoder</span><span class=\"p\">(</span><span class=\"n\">latent_dim</span><span class=\"o\">=</span><span class=\"n\">latent_dim</span><span class=\"p\">),</span>\n",
       "        <span class=\"p\">)</span>\n",
       "        <span class=\"bp\">self</span><span class=\"o\">.</span><span class=\"n\">save_hyperparameters</span><span class=\"p\">({</span><span class=\"s2\">&quot;latent_dim&quot;</span><span class=\"p\">:</span> <span class=\"n\">latent_dim</span><span class=\"p\">})</span>\n",
       "</pre></div>\n"
      ],
      "text/latex": [
       "\\begin{Verbatim}[commandchars=\\\\\\{\\}]\n",
       "\\PY{k+kn}{import} \\PY{n+nn}{torch}\n",
       "\\PY{k+kn}{from} \\PY{n+nn}{torch} \\PY{k+kn}{import} \\PY{n}{nn}\n",
       "\n",
       "\\PY{k+kn}{from} \\PY{n+nn}{.}\\PY{n+nn}{ae} \\PY{k+kn}{import} \\PY{n}{Autoencoder}\n",
       "\n",
       "\\PY{n}{torch}\\PY{o}{.}\\PY{n}{backends}\\PY{o}{.}\\PY{n}{cudnn}\\PY{o}{.}\\PY{n}{deterministic} \\PY{o}{=} \\PY{k+kc}{True}\n",
       "\\PY{n}{torch}\\PY{o}{.}\\PY{n}{backends}\\PY{o}{.}\\PY{n}{cudnn}\\PY{o}{.}\\PY{n}{benchmark} \\PY{o}{=} \\PY{k+kc}{False}\n",
       "\\PY{n}{torch}\\PY{o}{.}\\PY{n}{manual\\PYZus{}seed}\\PY{p}{(}\\PY{l+m+mi}{42}\\PY{p}{)}\n",
       "\n",
       "\n",
       "\\PY{k}{class} \\PY{n+nc}{CNNEncoder}\\PY{p}{(}\\PY{n}{nn}\\PY{o}{.}\\PY{n}{Module}\\PY{p}{)}\\PY{p}{:}\n",
       "\n",
       "    \\PY{k}{def} \\PY{n+nf+fm}{\\PYZus{}\\PYZus{}init\\PYZus{}\\PYZus{}}\\PY{p}{(}\\PY{n+nb+bp}{self}\\PY{p}{,} \\PY{n}{latent\\PYZus{}dim}\\PY{p}{:} \\PY{n+nb}{int}\\PY{p}{)}\\PY{p}{:}\n",
       "        \\PY{n+nb}{super}\\PY{p}{(}\\PY{p}{)}\\PY{o}{.}\\PY{n+nf+fm}{\\PYZus{}\\PYZus{}init\\PYZus{}\\PYZus{}}\\PY{p}{(}\\PY{p}{)}\n",
       "\n",
       "        \\PY{n+nb+bp}{self}\\PY{o}{.}\\PY{n}{\\PYZus{}layers} \\PY{o}{=} \\PY{n}{nn}\\PY{o}{.}\\PY{n}{Sequential}\\PY{p}{(}\n",
       "            \\PY{c+c1}{\\PYZsh{} Convolution}\n",
       "            \\PY{n}{nn}\\PY{o}{.}\\PY{n}{Conv2d}\\PY{p}{(}\\PY{l+m+mi}{1}\\PY{p}{,} \\PY{l+m+mi}{8}\\PY{p}{,} \\PY{l+m+mi}{3}\\PY{p}{,} \\PY{n}{stride}\\PY{o}{=}\\PY{l+m+mi}{2}\\PY{p}{,} \\PY{n}{padding}\\PY{o}{=}\\PY{l+m+mi}{1}\\PY{p}{)}\\PY{p}{,}\n",
       "            \\PY{n}{nn}\\PY{o}{.}\\PY{n}{ReLU}\\PY{p}{(}\\PY{k+kc}{True}\\PY{p}{)}\\PY{p}{,}\n",
       "            \\PY{n}{nn}\\PY{o}{.}\\PY{n}{Conv2d}\\PY{p}{(}\\PY{l+m+mi}{8}\\PY{p}{,} \\PY{l+m+mi}{16}\\PY{p}{,} \\PY{l+m+mi}{3}\\PY{p}{,} \\PY{n}{stride}\\PY{o}{=}\\PY{l+m+mi}{2}\\PY{p}{,} \\PY{n}{padding}\\PY{o}{=}\\PY{l+m+mi}{1}\\PY{p}{)}\\PY{p}{,}\n",
       "            \\PY{n}{nn}\\PY{o}{.}\\PY{n}{ReLU}\\PY{p}{(}\\PY{k+kc}{True}\\PY{p}{)}\\PY{p}{,}\n",
       "            \\PY{n}{nn}\\PY{o}{.}\\PY{n}{Conv2d}\\PY{p}{(}\\PY{l+m+mi}{16}\\PY{p}{,} \\PY{l+m+mi}{32}\\PY{p}{,} \\PY{l+m+mi}{3}\\PY{p}{,} \\PY{n}{stride}\\PY{o}{=}\\PY{l+m+mi}{2}\\PY{p}{,} \\PY{n}{padding}\\PY{o}{=}\\PY{l+m+mi}{0}\\PY{p}{)}\\PY{p}{,}\n",
       "            \\PY{n}{nn}\\PY{o}{.}\\PY{n}{ReLU}\\PY{p}{(}\\PY{k+kc}{True}\\PY{p}{)}\\PY{p}{,}\n",
       "            \\PY{c+c1}{\\PYZsh{} Invariant pooling}\n",
       "            \\PY{n}{nn}\\PY{o}{.}\\PY{n}{MaxPool2d}\\PY{p}{(}\\PY{n}{kernel\\PYZus{}size}\\PY{o}{=}\\PY{l+m+mi}{3}\\PY{p}{)}\\PY{p}{,}\n",
       "            \\PY{c+c1}{\\PYZsh{} Flattening}\n",
       "            \\PY{n}{nn}\\PY{o}{.}\\PY{n}{Flatten}\\PY{p}{(}\\PY{p}{)}\\PY{p}{,}\n",
       "            \\PY{c+c1}{\\PYZsh{} MLP}\n",
       "            \\PY{n}{nn}\\PY{o}{.}\\PY{n}{Linear}\\PY{p}{(}\\PY{l+m+mi}{32}\\PY{p}{,} \\PY{l+m+mi}{128}\\PY{p}{)}\\PY{p}{,}\n",
       "            \\PY{n}{nn}\\PY{o}{.}\\PY{n}{ReLU}\\PY{p}{(}\\PY{k+kc}{True}\\PY{p}{)}\\PY{p}{,}\n",
       "            \\PY{n}{nn}\\PY{o}{.}\\PY{n}{Linear}\\PY{p}{(}\\PY{l+m+mi}{128}\\PY{p}{,} \\PY{n}{latent\\PYZus{}dim}\\PY{p}{)}\\PY{p}{,}\n",
       "        \\PY{p}{)}\n",
       "\n",
       "    \\PY{k}{def} \\PY{n+nf}{forward}\\PY{p}{(}\\PY{n+nb+bp}{self}\\PY{p}{,} \\PY{n}{img}\\PY{p}{)}\\PY{p}{:}\n",
       "        \\PY{k}{return} \\PY{n+nb+bp}{self}\\PY{o}{.}\\PY{n}{\\PYZus{}layers}\\PY{p}{(}\\PY{n}{img}\\PY{p}{)}\n",
       "\n",
       "\n",
       "\\PY{k}{class} \\PY{n+nc}{CNNDecoder}\\PY{p}{(}\\PY{n}{nn}\\PY{o}{.}\\PY{n}{Module}\\PY{p}{)}\\PY{p}{:}\n",
       "\n",
       "    \\PY{k}{def} \\PY{n+nf+fm}{\\PYZus{}\\PYZus{}init\\PYZus{}\\PYZus{}}\\PY{p}{(}\\PY{n+nb+bp}{self}\\PY{p}{,} \\PY{n}{latent\\PYZus{}dim}\\PY{p}{:} \\PY{n+nb}{int}\\PY{p}{)}\\PY{p}{:}\n",
       "        \\PY{n+nb}{super}\\PY{p}{(}\\PY{p}{)}\\PY{o}{.}\\PY{n+nf+fm}{\\PYZus{}\\PYZus{}init\\PYZus{}\\PYZus{}}\\PY{p}{(}\\PY{p}{)}\n",
       "\n",
       "        \\PY{n+nb+bp}{self}\\PY{o}{.}\\PY{n}{\\PYZus{}layers} \\PY{o}{=} \\PY{n}{nn}\\PY{o}{.}\\PY{n}{Sequential}\\PY{p}{(}\n",
       "            \\PY{c+c1}{\\PYZsh{} MLP}\n",
       "            \\PY{n}{nn}\\PY{o}{.}\\PY{n}{Linear}\\PY{p}{(}\\PY{n}{latent\\PYZus{}dim}\\PY{p}{,} \\PY{l+m+mi}{128}\\PY{p}{)}\\PY{p}{,}\n",
       "            \\PY{n}{nn}\\PY{o}{.}\\PY{n}{ReLU}\\PY{p}{(}\\PY{k+kc}{True}\\PY{p}{)}\\PY{p}{,}\n",
       "            \\PY{n}{nn}\\PY{o}{.}\\PY{n}{Linear}\\PY{p}{(}\\PY{l+m+mi}{128}\\PY{p}{,} \\PY{l+m+mi}{3} \\PY{o}{*} \\PY{l+m+mi}{3} \\PY{o}{*} \\PY{l+m+mi}{32}\\PY{p}{)}\\PY{p}{,}\n",
       "            \\PY{n}{nn}\\PY{o}{.}\\PY{n}{ReLU}\\PY{p}{(}\\PY{k+kc}{True}\\PY{p}{)}\\PY{p}{,}\n",
       "            \\PY{c+c1}{\\PYZsh{} Reshape into image}\n",
       "            \\PY{n}{nn}\\PY{o}{.}\\PY{n}{Unflatten}\\PY{p}{(}\\PY{n}{dim}\\PY{o}{=}\\PY{l+m+mi}{1}\\PY{p}{,} \\PY{n}{unflattened\\PYZus{}size}\\PY{o}{=}\\PY{p}{(}\\PY{l+m+mi}{32}\\PY{p}{,} \\PY{l+m+mi}{3}\\PY{p}{,} \\PY{l+m+mi}{3}\\PY{p}{)}\\PY{p}{)}\\PY{p}{,}\n",
       "            \\PY{c+c1}{\\PYZsh{} Deconvolution}\n",
       "            \\PY{n}{nn}\\PY{o}{.}\\PY{n}{ConvTranspose2d}\\PY{p}{(}\\PY{l+m+mi}{32}\\PY{p}{,} \\PY{l+m+mi}{16}\\PY{p}{,} \\PY{l+m+mi}{3}\\PY{p}{,} \\PY{n}{stride}\\PY{o}{=}\\PY{l+m+mi}{2}\\PY{p}{,} \\PY{n}{output\\PYZus{}padding}\\PY{o}{=}\\PY{l+m+mi}{0}\\PY{p}{)}\\PY{p}{,}\n",
       "            \\PY{n}{nn}\\PY{o}{.}\\PY{n}{ReLU}\\PY{p}{(}\\PY{k+kc}{True}\\PY{p}{)}\\PY{p}{,}\n",
       "            \\PY{n}{nn}\\PY{o}{.}\\PY{n}{ConvTranspose2d}\\PY{p}{(}\\PY{l+m+mi}{16}\\PY{p}{,} \\PY{l+m+mi}{8}\\PY{p}{,} \\PY{l+m+mi}{3}\\PY{p}{,} \\PY{n}{stride}\\PY{o}{=}\\PY{l+m+mi}{2}\\PY{p}{,} \\PY{n}{padding}\\PY{o}{=}\\PY{l+m+mi}{1}\\PY{p}{,} \\PY{n}{output\\PYZus{}padding}\\PY{o}{=}\\PY{l+m+mi}{1}\\PY{p}{)}\\PY{p}{,}\n",
       "            \\PY{n}{nn}\\PY{o}{.}\\PY{n}{ReLU}\\PY{p}{(}\\PY{k+kc}{True}\\PY{p}{)}\\PY{p}{,}\n",
       "            \\PY{n}{nn}\\PY{o}{.}\\PY{n}{ConvTranspose2d}\\PY{p}{(}\\PY{l+m+mi}{8}\\PY{p}{,} \\PY{l+m+mi}{1}\\PY{p}{,} \\PY{l+m+mi}{3}\\PY{p}{,} \\PY{n}{stride}\\PY{o}{=}\\PY{l+m+mi}{2}\\PY{p}{,} \\PY{n}{padding}\\PY{o}{=}\\PY{l+m+mi}{1}\\PY{p}{,} \\PY{n}{output\\PYZus{}padding}\\PY{o}{=}\\PY{l+m+mi}{1}\\PY{p}{)}\\PY{p}{,}\n",
       "            \\PY{n}{nn}\\PY{o}{.}\\PY{n}{Sigmoid}\\PY{p}{(}\\PY{p}{)}\\PY{p}{,}\n",
       "        \\PY{p}{)}\n",
       "\n",
       "    \\PY{k}{def} \\PY{n+nf}{forward}\\PY{p}{(}\\PY{n+nb+bp}{self}\\PY{p}{,} \\PY{n}{z}\\PY{p}{)}\\PY{p}{:}\n",
       "        \\PY{k}{return} \\PY{n+nb+bp}{self}\\PY{o}{.}\\PY{n}{\\PYZus{}layers}\\PY{p}{(}\\PY{n}{z}\\PY{p}{)}\n",
       "\n",
       "\n",
       "\\PY{k}{class} \\PY{n+nc}{CNNAutoencoder}\\PY{p}{(}\\PY{n}{Autoencoder}\\PY{p}{)}\\PY{p}{:}\n",
       "\n",
       "    \\PY{k}{def} \\PY{n+nf+fm}{\\PYZus{}\\PYZus{}init\\PYZus{}\\PYZus{}}\\PY{p}{(}\\PY{n+nb+bp}{self}\\PY{p}{,} \\PY{n}{latent\\PYZus{}dim}\\PY{p}{:} \\PY{n+nb}{int}\\PY{p}{)}\\PY{p}{:}\n",
       "        \\PY{n+nb}{super}\\PY{p}{(}\\PY{p}{)}\\PY{o}{.}\\PY{n+nf+fm}{\\PYZus{}\\PYZus{}init\\PYZus{}\\PYZus{}}\\PY{p}{(}\n",
       "            \\PY{n}{encoder}\\PY{o}{=}\\PY{n}{CNNEncoder}\\PY{p}{(}\\PY{n}{latent\\PYZus{}dim}\\PY{o}{=}\\PY{n}{latent\\PYZus{}dim}\\PY{p}{)}\\PY{p}{,}\n",
       "            \\PY{n}{decoder}\\PY{o}{=}\\PY{n}{CNNDecoder}\\PY{p}{(}\\PY{n}{latent\\PYZus{}dim}\\PY{o}{=}\\PY{n}{latent\\PYZus{}dim}\\PY{p}{)}\\PY{p}{,}\n",
       "        \\PY{p}{)}\n",
       "        \\PY{n+nb+bp}{self}\\PY{o}{.}\\PY{n}{save\\PYZus{}hyperparameters}\\PY{p}{(}\\PY{p}{\\PYZob{}}\\PY{l+s+s2}{\\PYZdq{}}\\PY{l+s+s2}{latent\\PYZus{}dim}\\PY{l+s+s2}{\\PYZdq{}}\\PY{p}{:} \\PY{n}{latent\\PYZus{}dim}\\PY{p}{\\PYZcb{}}\\PY{p}{)}\n",
       "\\end{Verbatim}\n"
      ],
      "text/plain": [
       "import torch\n",
       "from torch import nn\n",
       "\n",
       "from .ae import Autoencoder\n",
       "\n",
       "torch.backends.cudnn.deterministic = True\n",
       "torch.backends.cudnn.benchmark = False\n",
       "torch.manual_seed(42)\n",
       "\n",
       "\n",
       "class CNNEncoder(nn.Module):\n",
       "\n",
       "    def __init__(self, latent_dim: int):\n",
       "        super().__init__()\n",
       "\n",
       "        self._layers = nn.Sequential(\n",
       "            # Convolution\n",
       "            nn.Conv2d(1, 8, 3, stride=2, padding=1),\n",
       "            nn.ReLU(True),\n",
       "            nn.Conv2d(8, 16, 3, stride=2, padding=1),\n",
       "            nn.ReLU(True),\n",
       "            nn.Conv2d(16, 32, 3, stride=2, padding=0),\n",
       "            nn.ReLU(True),\n",
       "            # Invariant pooling\n",
       "            nn.MaxPool2d(kernel_size=3),\n",
       "            # Flattening\n",
       "            nn.Flatten(),\n",
       "            # MLP\n",
       "            nn.Linear(32, 128),\n",
       "            nn.ReLU(True),\n",
       "            nn.Linear(128, latent_dim),\n",
       "        )\n",
       "\n",
       "    def forward(self, img):\n",
       "        return self._layers(img)\n",
       "\n",
       "\n",
       "class CNNDecoder(nn.Module):\n",
       "\n",
       "    def __init__(self, latent_dim: int):\n",
       "        super().__init__()\n",
       "\n",
       "        self._layers = nn.Sequential(\n",
       "            # MLP\n",
       "            nn.Linear(latent_dim, 128),\n",
       "            nn.ReLU(True),\n",
       "            nn.Linear(128, 3 * 3 * 32),\n",
       "            nn.ReLU(True),\n",
       "            # Reshape into image\n",
       "            nn.Unflatten(dim=1, unflattened_size=(32, 3, 3)),\n",
       "            # Deconvolution\n",
       "            nn.ConvTranspose2d(32, 16, 3, stride=2, output_padding=0),\n",
       "            nn.ReLU(True),\n",
       "            nn.ConvTranspose2d(16, 8, 3, stride=2, padding=1, output_padding=1),\n",
       "            nn.ReLU(True),\n",
       "            nn.ConvTranspose2d(8, 1, 3, stride=2, padding=1, output_padding=1),\n",
       "            nn.Sigmoid(),\n",
       "        )\n",
       "\n",
       "    def forward(self, z):\n",
       "        return self._layers(z)\n",
       "\n",
       "\n",
       "class CNNAutoencoder(Autoencoder):\n",
       "\n",
       "    def __init__(self, latent_dim: int):\n",
       "        super().__init__(\n",
       "            encoder=CNNEncoder(latent_dim=latent_dim),\n",
       "            decoder=CNNDecoder(latent_dim=latent_dim),\n",
       "        )\n",
       "        self.save_hyperparameters({\"latent_dim\": latent_dim})"
      ]
     },
     "execution_count": 2,
     "metadata": {},
     "output_type": "execute_result"
    }
   ],
   "source": [
    "from IPython.display import Code\n",
    "\n",
    "\n",
    "Code(filename=\"src/cnn.py\")"
   ]
  },
  {
   "cell_type": "markdown",
   "id": "560a3531",
   "metadata": {},
   "source": [
    "## 2.2. Uczenie modelu\n",
    "\n",
    "Podobnie jak w przypadku poprzedniego przykładu, model został nauczony i załączony w repozytorium.\n"
   ]
  },
  {
   "cell_type": "code",
   "execution_count": 3,
   "id": "53e8d5f4",
   "metadata": {},
   "outputs": [],
   "source": [
    "LOG_PATH = \"./data/CNN/logs\"\n",
    "CHECKPOINT_PATH = \"./data/CNN/model.ckpt\""
   ]
  },
  {
   "cell_type": "code",
   "execution_count": 4,
   "id": "4f7770c3",
   "metadata": {},
   "outputs": [
    {
     "data": {
      "text/plain": [
       "ERROR: Failed to launch TensorBoard (exited with 255).\n",
       "Contents of stderr:\n",
       "TensorFlow installation not found - running with reduced feature set.\n",
       "\n",
       "NOTE: Using experimental fast data loading logic. To disable, pass\n",
       "    \"--load_fast=false\" and report issues on GitHub. More details:\n",
       "    https://github.com/tensorflow/tensorboard/issues/4784\n",
       "\n",
       "E0504 15:31:50.446860 132835661073280 program.py:300] TensorBoard could not bind to port 6006, it was already in use\n",
       "ERROR: TensorBoard could not bind to port 6006, it was already in use"
      ]
     },
     "metadata": {},
     "output_type": "display_data"
    }
   ],
   "source": [
    "%load_ext tensorboard\n",
    "%tensorboard --logdir $LOG_PATH --host 0.0.0.0 --port 6006"
   ]
  },
  {
   "cell_type": "code",
   "execution_count": null,
   "id": "0e737db3",
   "metadata": {},
   "outputs": [],
   "source": [
    "from src.dataset import SampledMNISTData\n",
    "from src.cnn import CNNAutoencoder"
   ]
  },
  {
   "cell_type": "markdown",
   "id": "483b4507",
   "metadata": {},
   "source": [
    "Zakomentowany kod do uczenia modelu\n",
    "\n",
    "W przypadku chęci modyfikacji, proszę odkomentować kod, przeuczyć model i zapisać go za pomocą metody `save_checkpoint`.\n"
   ]
  },
  {
   "cell_type": "code",
   "execution_count": null,
   "id": "e4e4e519",
   "metadata": {},
   "outputs": [],
   "source": [
    "# from lightning import Trainer\n",
    "# from lightning.pytorch.loggers import TensorBoardLogger\n",
    "# from src.dataset import SampledMNISTData\n",
    "\n",
    "# conv_ae = CNNAutoencoder(latent_dim=2)\n",
    "# trainer = Trainer(\n",
    "#     max_epochs=10,\n",
    "#     logger=TensorBoardLogger(save_dir=LOG_PATH, name=\"conv_ae\", default_hp_metric=False),\n",
    "#     enable_checkpointing=False,\n",
    "#     accelerator=\"auto\",\n",
    "# )\n",
    "# mnist = SampledMNISTData(num_samples_per_class=-1)\n",
    "\n",
    "# trainer.fit(\n",
    "#     model=conv_ae,\n",
    "#     train_dataloaders=mnist,\n",
    "# )\n",
    "\n",
    "# trainer.save_checkpoint(filepath=CHECKPOINT_PATH)"
   ]
  },
  {
   "cell_type": "markdown",
   "id": "0db858da",
   "metadata": {},
   "source": [
    "Wczytujemy przeuczony model:\n"
   ]
  },
  {
   "cell_type": "code",
   "execution_count": null,
   "id": "deb7b75f",
   "metadata": {},
   "outputs": [],
   "source": [
    "cnn_ae = CNNAutoencoder.load_from_checkpoint(\n",
    "    checkpoint_path=CHECKPOINT_PATH, map_location=\"cpu\"\n",
    ")"
   ]
  },
  {
   "cell_type": "markdown",
   "id": "547b5af7",
   "metadata": {},
   "source": [
    "## 2.3. Badanie jakości reprezentacji w zadaniu\n"
   ]
  },
  {
   "cell_type": "markdown",
   "id": "11ce8c9a",
   "metadata": {},
   "source": [
    "Wczytujemy losową próbkę zbioru danych MNIST:\n"
   ]
  },
  {
   "cell_type": "code",
   "execution_count": null,
   "id": "0b780bd0",
   "metadata": {},
   "outputs": [],
   "source": [
    "mnist = SampledMNISTData(num_samples_per_class=100, seed=42)"
   ]
  },
  {
   "cell_type": "markdown",
   "id": "9116ecc1",
   "metadata": {},
   "source": [
    "Dla każdej próbki wyciągamy jej reprezentację (wektor dwu-wymiarowy) oraz etykietę:\n"
   ]
  },
  {
   "cell_type": "code",
   "execution_count": null,
   "id": "44d59298",
   "metadata": {},
   "outputs": [],
   "source": [
    "from src.utils import extract_representations\n",
    "\n",
    "\n",
    "representations = extract_representations(\n",
    "    model=cnn_ae,\n",
    "    dataset=mnist,\n",
    ")"
   ]
  },
  {
   "cell_type": "code",
   "execution_count": null,
   "id": "137c7517",
   "metadata": {},
   "outputs": [],
   "source": [
    "from src.utils import evaluate_linear\n",
    "\n",
    "\n",
    "auc_train, auc_test = evaluate_linear(\n",
    "    z_train=representations[\"train\"][\"z\"],\n",
    "    y_train=representations[\"train\"][\"y\"],\n",
    "    z_test=representations[\"test\"][\"z\"],\n",
    "    y_test=representations[\"test\"][\"y\"],\n",
    ")\n",
    "\n",
    "print(f\"AUC => train: {auc_train * 100.0:.2f} [%], test: {auc_test * 100.0:.2f} [%]\")"
   ]
  },
  {
   "cell_type": "markdown",
   "id": "be327d5b",
   "metadata": {},
   "source": [
    "## 2.4. Wizualizacja przestrzeni reprezentacji\n"
   ]
  },
  {
   "cell_type": "code",
   "execution_count": null,
   "id": "eae906f7",
   "metadata": {},
   "outputs": [],
   "source": [
    "%matplotlib inline\n",
    "\n",
    "from src.utils import visualize_latent_spaces\n",
    "\n",
    "\n",
    "visualize_latent_spaces(representations)"
   ]
  },
  {
   "cell_type": "markdown",
   "id": "b379074f",
   "metadata": {},
   "source": [
    "## 2.5. Wizualizacja jakości rekonstrukcji\n"
   ]
  },
  {
   "cell_type": "code",
   "execution_count": null,
   "id": "566854ad",
   "metadata": {},
   "outputs": [],
   "source": [
    "%matplotlib inline\n",
    "\n",
    "from src.utils import visualize_random_sample\n",
    "\n",
    "    \n",
    "visualize_random_sample(model=cnn_ae, dataset=mnist.mnist_train)"
   ]
  },
  {
   "cell_type": "markdown",
   "id": "51a07ef0",
   "metadata": {},
   "source": [
    "## 2.6. Odporność modelu na przesunięcia\n"
   ]
  },
  {
   "cell_type": "markdown",
   "id": "56306401",
   "metadata": {},
   "source": [
    "## Zadanie 2.1. (0 pkt)\n",
    "\n",
    "Skopiuj implemetację funkcji `shift` z poprzedniego zeszytu do poniższej komórki.\n"
   ]
  },
  {
   "cell_type": "code",
   "execution_count": null,
   "id": "fad13ae0",
   "metadata": {
    "deletable": false,
    "nbgrader": {
     "cell_type": "code",
     "checksum": "a4d532e94e36a6121dfe9888543bb06b",
     "grade": true,
     "grade_id": "shift-copy",
     "locked": false,
     "points": 0,
     "schema_version": 3,
     "solution": true,
     "task": false
    }
   },
   "outputs": [],
   "source": [
    "import torch\n",
    "\n",
    "\n",
    "def shift(img: torch.Tensor, dx: int, dy: int) -> torch.Tensor:\n",
    "    # TU WPISZ KOD\n",
    "    raise NotImplementedError()"
   ]
  },
  {
   "cell_type": "markdown",
   "id": "c26cc03b",
   "metadata": {},
   "source": [
    "Wybieramy dowolną instancję ze zbioru danych:\n"
   ]
  },
  {
   "cell_type": "code",
   "execution_count": null,
   "id": "233a0312",
   "metadata": {},
   "outputs": [],
   "source": [
    "img, _ = mnist.mnist_train[256]"
   ]
  },
  {
   "cell_type": "markdown",
   "id": "90404f05",
   "metadata": {},
   "source": [
    "Zbadanie odporności na **przesunięcia poziome**:\n"
   ]
  },
  {
   "cell_type": "code",
   "execution_count": null,
   "id": "c3095d15",
   "metadata": {},
   "outputs": [],
   "source": [
    "%matplotlib widget\n",
    "\n",
    "from src.transforms import plot_transformation\n",
    "\n",
    "\n",
    "def shift_horizontally(image: torch.Tensor, dx: int) -> torch.Tensor:\n",
    "    return shift(img=image, dx=dx, dy=0)\n",
    "\n",
    "    \n",
    "plot_transformation(\n",
    "    image=img,\n",
    "    model=cnn_ae,\n",
    "    transformation_fn=shift_horizontally,\n",
    "    keep_channel_dim=True,  # Potrzebne do działania warstw kowolucyjnych\n",
    ")"
   ]
  },
  {
   "cell_type": "markdown",
   "id": "7f78d10b",
   "metadata": {},
   "source": [
    "Zbadanie odporności na **przesunięcia pionowe**:\n"
   ]
  },
  {
   "cell_type": "code",
   "execution_count": null,
   "id": "27bc2725",
   "metadata": {},
   "outputs": [],
   "source": [
    "def shift_vertically(image: torch.Tensor, dy: int) -> torch.Tensor:\n",
    "    return shift(img=image, dx=0, dy=dy)\n",
    "\n",
    "\n",
    "plot_transformation(\n",
    "    image=img,\n",
    "    model=cnn_ae,\n",
    "    transformation_fn=shift_vertically,\n",
    "    keep_channel_dim=True,  # Potrzebne do działania warstw kowolucyjnych\n",
    ")"
   ]
  },
  {
   "cell_type": "markdown",
   "id": "be32161c",
   "metadata": {},
   "source": [
    "**Obserwacja**: Widzimy, że dla małych wartości przesunięć model działa poprawnie (tzn. rekonstrukcja nadal przypomina tę samą cyfrę). Przy większych przesunięciach rekonstrukcja jest zaburzona, jednak przetransformowana cyfra jest również zbyt zaburzona przez przesunięcie.\n"
   ]
  },
  {
   "cell_type": "markdown",
   "id": "97ee4ea3",
   "metadata": {},
   "source": [
    "## 2.7. Odporność na obroty\n",
    "\n",
    "Inną ważną grupą symetrii w przypadku przetwarzania obrazów jest **grupa obrotów**, np. grupa P4 opisująca obroty obiektów o 90 stopni.\n",
    "\n",
    "Zbadamy teraz jak się zachowuje model oparty o sieci konwolucyjne w przypadku obrotów.\n"
   ]
  },
  {
   "cell_type": "markdown",
   "id": "924350a6",
   "metadata": {},
   "source": [
    "## Zadanie 2.2. (2 pkt)\n",
    "\n",
    "Zaimplementuj funkcję `rotate`, która obróci obraz wejściowy `img` o `angle` stopni w lewo względem środka obrazu. Funkcja powinna obsługiwać ujemne wartości parametru obrotu, tzn. `angle < 0` (obrót w prawo).\n"
   ]
  },
  {
   "cell_type": "code",
   "execution_count": null,
   "id": "119edff4",
   "metadata": {
    "deletable": false,
    "nbgrader": {
     "cell_type": "code",
     "checksum": "e59278b3821b6583efda79ea018d81b6",
     "grade": true,
     "grade_id": "rotate-implementation",
     "locked": false,
     "points": 2,
     "schema_version": 3,
     "solution": true,
     "task": false
    }
   },
   "outputs": [],
   "source": [
    "import torch\n",
    "\n",
    "\n",
    "def rotate(img: torch.Tensor, angle: float) -> torch.Tensor:\n",
    "    # TU WPISZ KOD\n",
    "    raise NotImplementedError()"
   ]
  },
  {
   "cell_type": "code",
   "execution_count": null,
   "id": "7d194a55",
   "metadata": {},
   "outputs": [],
   "source": [
    "from src.transforms import plot_transformation\n",
    "\n",
    "\n",
    "plot_transformation(\n",
    "    image=img,\n",
    "    model=cnn_ae,\n",
    "    transformation_fn=rotate,\n",
    "    min_param_value=0,\n",
    "    max_param_value=360,\n",
    "    step=10,\n",
    "    keep_channel_dim=True,\n",
    ")"
   ]
  },
  {
   "cell_type": "markdown",
   "id": "acd767aa",
   "metadata": {},
   "source": [
    "## Zadanie 2.3 (0.5 pkt)\n",
    "\n",
    "Czy autokoder CNN jest odporny na obroty obiektów? Z czego może to wynikać?\n"
   ]
  },
  {
   "cell_type": "markdown",
   "id": "fb423c73",
   "metadata": {
    "deletable": false,
    "nbgrader": {
     "cell_type": "markdown",
     "checksum": "9427a5c1c7519ca325c9be6d6148deec",
     "grade": true,
     "grade_id": "cnn-rotate",
     "locked": false,
     "points": 0.5,
     "schema_version": 3,
     "solution": true,
     "task": false
    }
   },
   "source": [
    "TU WPISZ ODPOWIEDŹ\n"
   ]
  }
 ],
 "metadata": {
  "kernelspec": {
   "display_name": "Python 3 (ipykernel)",
   "language": "python",
   "name": "python3"
  },
  "language_info": {
   "codemirror_mode": {
    "name": "ipython",
    "version": 3
   },
   "file_extension": ".py",
   "mimetype": "text/x-python",
   "name": "python",
   "nbconvert_exporter": "python",
   "pygments_lexer": "ipython3",
   "version": "3.11.6"
  }
 },
 "nbformat": 4,
 "nbformat_minor": 5
}
